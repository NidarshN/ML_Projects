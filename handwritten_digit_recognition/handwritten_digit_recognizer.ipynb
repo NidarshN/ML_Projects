{
 "cells": [
  {
   "cell_type": "markdown",
   "metadata": {},
   "source": [
    "# Handwritten Digit Recognition\n",
    "### Deep learning model to recognize handwritten digit\n",
    "### Dataset: MNIST Dataset"
   ]
  },
  {
   "cell_type": "markdown",
   "metadata": {},
   "source": [
    "## 1. Import the necessary libraries"
   ]
  },
  {
   "cell_type": "code",
   "execution_count": 34,
   "metadata": {},
   "outputs": [],
   "source": [
    "import os\n",
    "from tensorflow import keras\n",
    "from tensorflow.keras.datasets import mnist\n",
    "from tensorflow.keras.models import Sequential\n",
    "from tensorflow.keras.layers import Dense, Dropout, Flatten\n",
    "from tensorflow.keras.layers import Conv2D, MaxPooling2D\n",
    "from tensorflow.keras.utils import to_categorical\n",
    "from tensorflow.keras.losses import categorical_crossentropy\n",
    "from tensorflow.keras.optimizers import Adadelta\n",
    "from tensorflow.keras import backend"
   ]
  },
  {
   "cell_type": "markdown",
   "metadata": {},
   "source": [
    "## 2. Load the MNIST dataset"
   ]
  },
  {
   "cell_type": "markdown",
   "metadata": {},
   "source": [
    "## Function to print the data details\n",
    "### Input: <ol><li>x_train - Training Data</li><li>x_test  - Testing Data</li></ol>\n",
    "### Output: None "
   ]
  },
  {
   "cell_type": "code",
   "execution_count": 19,
   "metadata": {},
   "outputs": [],
   "source": [
    "def print_data_details(x_train, x_test):\n",
    "    print('*' * 10 + ' Training Data Details ' + '*' * 10)\n",
    "    print(f'=> Number of Training Samples: {x_train.shape[0]}')\n",
    "    print(f'=> Shape of Training Data: {x_train.shape}')\n",
    "    print('*' * 10 + ' Testing Data Details ' + '*' * 10)\n",
    "    print(f'=> Number of Testing Samples: {x_test.shape[0]}')\n",
    "    print(f'=> Shape of Testing Data: {x_test.shape}')"
   ]
  },
  {
   "cell_type": "code",
   "execution_count": 20,
   "metadata": {},
   "outputs": [
    {
     "name": "stdout",
     "output_type": "stream",
     "text": [
      "********** Training Data Details **********\n",
      "=> Number of Training Samples: 60000\n",
      "=> Shape of Training Data: (60000, 28, 28)\n",
      "********** Testing Data Details **********\n",
      "=> Number of Testing Samples: 10000\n",
      "=> Shape of Testing Data: (10000, 28, 28)\n"
     ]
    }
   ],
   "source": [
    "(x_train, y_train), (x_test, y_test) = mnist.load_data()\n",
    "print_data_details(x_train, x_test)"
   ]
  },
  {
   "cell_type": "markdown",
   "metadata": {},
   "source": [
    "## 3. Process the data\n",
    "### Preprocessing is required to be performed on the data to normalize and refine the data suitable for the neural network's functioning.\n",
    "### Following steps are performed in the preprocessing stage\n",
    "<ol>\n",
    "<li>Reshaping the data to contain one extra dimension for the requirement suitable for the CNN model</li>\n",
    "<li>Convert class vectors to binary class matrices</li>\n",
    "<li>Typecast the data to float type and rescale it from 0 - 255 scale to 0 - 1 scale</li>\n",
    "</ol>"
   ]
  },
  {
   "cell_type": "code",
   "execution_count": 21,
   "metadata": {},
   "outputs": [
    {
     "name": "stdout",
     "output_type": "stream",
     "text": [
      "********** After Proprocessing: Data Details**********\n",
      "********** Training Data Details **********\n",
      "=> Number of Training Samples: 60000\n",
      "=> Shape of Training Data: (60000, 28, 28, 1)\n",
      "********** Testing Data Details **********\n",
      "=> Number of Testing Samples: 10000\n",
      "=> Shape of Testing Data: (10000, 28, 28, 1)\n"
     ]
    }
   ],
   "source": [
    "input_shape = (28, 28, 1)\n",
    "num_classes = 10\n",
    "\n",
    "# Step 1\n",
    "x_train = x_train.reshape(x_train.shape[0], 28, 28, 1)\n",
    "x_test = x_test.reshape(x_test.shape[0], 28, 28, 1)\n",
    "# Step 2\n",
    "y_train = to_categorical(y_train, num_classes)\n",
    "y_test = to_categorical(y_test, num_classes)\n",
    "\n",
    "# Step 3\n",
    "x_train = x_train.astype('float32') / 255\n",
    "x_test = x_test.astype('float32') / 255\n",
    "\n",
    "print('*' * 10 +' After Proprocessing: Data Details' + '*' * 10)\n",
    "print_data_details(x_train, x_test)"
   ]
  },
  {
   "cell_type": "markdown",
   "metadata": {},
   "source": [
    "## 4. Create the Convolution Neural Network"
   ]
  },
  {
   "cell_type": "code",
   "execution_count": 24,
   "metadata": {},
   "outputs": [],
   "source": [
    "batch_size = 128\n",
    "epochs = 10\n",
    "\n",
    "model = Sequential()\n",
    "model.add(Conv2D(32, kernel_size=(3, 3), activation='relu', input_shape=input_shape))\n",
    "model.add(Conv2D(64, kernel_size=(3, 3), activation='relu'))\n",
    "model.add(MaxPooling2D(pool_size=(2, 2)))\n",
    "model.add(Dropout(0.25))\n",
    "model.add(Flatten())\n",
    "model.add(Dense(256, activation='relu'))\n",
    "model.add(Dropout(0.5))\n",
    "model.add(Dense(num_classes, activation='softmax'))\n",
    "model.compile(loss=categorical_crossentropy, optimizer=Adadelta(), metrics=['accuracy'])"
   ]
  },
  {
   "cell_type": "markdown",
   "metadata": {},
   "source": [
    "## 5. Training the model\n",
    "### After training, save the weights and model definition"
   ]
  },
  {
   "cell_type": "code",
   "execution_count": 25,
   "metadata": {},
   "outputs": [
    {
     "name": "stdout",
     "output_type": "stream",
     "text": [
      "Epoch 1/10\n",
      "469/469 [==============================] - 57s 120ms/step - loss: 2.2980 - accuracy: 0.1199 - val_loss: 2.2411 - val_accuracy: 0.3752\n",
      "Epoch 2/10\n",
      "469/469 [==============================] - 56s 120ms/step - loss: 2.2329 - accuracy: 0.2632 - val_loss: 2.1589 - val_accuracy: 0.6028\n",
      "Epoch 3/10\n",
      "469/469 [==============================] - 54s 115ms/step - loss: 2.1513 - accuracy: 0.3951 - val_loss: 2.0460 - val_accuracy: 0.6784\n",
      "Epoch 4/10\n",
      "469/469 [==============================] - 52s 110ms/step - loss: 2.0374 - accuracy: 0.5024 - val_loss: 1.8823 - val_accuracy: 0.7286\n",
      "Epoch 5/10\n",
      "469/469 [==============================] - 58s 123ms/step - loss: 1.8766 - accuracy: 0.5700 - val_loss: 1.6593 - val_accuracy: 0.7658\n",
      "Epoch 6/10\n",
      "469/469 [==============================] - 57s 121ms/step - loss: 1.6681 - accuracy: 0.6168 - val_loss: 1.4004 - val_accuracy: 0.7839\n",
      "Epoch 7/10\n",
      "469/469 [==============================] - 55s 117ms/step - loss: 1.4412 - accuracy: 0.6545 - val_loss: 1.1543 - val_accuracy: 0.8028\n",
      "Epoch 8/10\n",
      "469/469 [==============================] - 58s 125ms/step - loss: 1.2402 - accuracy: 0.6819 - val_loss: 0.9591 - val_accuracy: 0.8169\n",
      "Epoch 9/10\n",
      "469/469 [==============================] - 55s 116ms/step - loss: 1.0816 - accuracy: 0.7060 - val_loss: 0.8185 - val_accuracy: 0.8313\n",
      "Epoch 10/10\n",
      "469/469 [==============================] - 57s 122ms/step - loss: 0.9670 - accuracy: 0.7257 - val_loss: 0.7194 - val_accuracy: 0.8417\n"
     ]
    }
   ],
   "source": [
    "history = model.fit(x_train, \n",
    "                    y_train,\n",
    "                    batch_size=batch_size,\n",
    "                    epochs=epochs,\n",
    "                    verbose=1,\n",
    "                    validation_data=(x_test, y_test))"
   ]
  },
  {
   "cell_type": "code",
   "execution_count": 33,
   "metadata": {},
   "outputs": [],
   "source": [
    "if('models' not in os.listdir()):\n",
    "    os.mkdir('models')\n",
    "model.save(f'models/mnist_ep{epochs}_batchs{batch_size}.h5')"
   ]
  },
  {
   "cell_type": "markdown",
   "metadata": {},
   "source": [
    "## 6. Evaluate the model\n",
    "### Test how well the model works with the test data"
   ]
  },
  {
   "cell_type": "code",
   "execution_count": 35,
   "metadata": {},
   "outputs": [
    {
     "name": "stdout",
     "output_type": "stream",
     "text": [
      "Test Loss: 0.7194458246231079\n",
      "Test Accuracy: 0.84170001745224\n"
     ]
    }
   ],
   "source": [
    "score = model.evaluate(x_test, y_test, verbose=0)\n",
    "print(f'Test Loss: {score[0]}')\n",
    "print(f'Test Accuracy: {score[1]}')"
   ]
  },
  {
   "cell_type": "code",
   "execution_count": 3,
   "metadata": {},
   "outputs": [],
   "source": [
    "from tensorflow.keras.models import load_model\n",
    "import tkinter as tk\n",
    "from PIL import ImageGrab, Image\n",
    "import numpy as np"
   ]
  },
  {
   "cell_type": "code",
   "execution_count": 4,
   "metadata": {},
   "outputs": [],
   "source": [
    "model = load_model('models/mnist_ep10_batchs128.h5')"
   ]
  },
  {
   "cell_type": "code",
   "execution_count": 5,
   "metadata": {},
   "outputs": [],
   "source": [
    "def predict_digit(model, image):\n",
    "    image = image.reshape((28, 28))\n",
    "    image = image.convert('L')\n",
    "    image = np.array(image)\n",
    "    image = image.reshape(1, 28, 28, 1)\n",
    "    image = image / 255.0\n",
    "    result = model.predict([image])[0]\n",
    "    return np.argmax(res), max(res)"
   ]
  },
  {
   "cell_type": "code",
   "execution_count": null,
   "metadata": {},
   "outputs": [],
   "source": [
    "class App(tk.TK):\n",
    "    def __init__(self):\n",
    "        super().__init__()\n",
    "        self.x = self.y = 0\n",
    "        self.canvas = tk.Canvas(self, \n",
    "                                width=300, \n",
    "                                height=300, \n",
    "                                bg=\"White\",\n",
    "                                cursor=\"cross\")\n",
    "        self.label = tk.Label(self, \n",
    "                                text=\"Predicting...\",\n",
    "                                font=(\"Helvetica, 48\"))\n",
    "        self.classify_btn = tk.Button(self,\n",
    "                                        text=\"Recognise\",\n",
    "                                        command=self.classify_handwriting)\n",
    "        self.button_clear = tk.Button(self,\n",
    "                                        text=\"Clear\", command=self.clear_all)\n",
    "        self.canvas.grid(row=0, column=0, pady=2, sticky=W)\n",
    "        self.label.grid(row=0, column=1, pady=2, padx=2)\n",
    "        self.classify_btn.grid(row=1, column=1, pady=2, padx=2)\n",
    "        self.button_clear.grid(row=1, column=0, pady=2)\n",
    "        self.canvas.bind(\"<B1-Motion>\", self.draw_lines)\n",
    "\n",
    "    def clear_all(self):\n",
    "        self.canvas.delete(\"all\")\n",
    "\n",
    "    def classify_handwriting(self):\n",
    "        HWND = self.canvas.winfo\n",
    "\n"
   ]
  }
 ],
 "metadata": {
  "interpreter": {
   "hash": "31f2aee4e71d21fbe5cf8b01ff0e069b9275f58929596ceb00d14d90e3e16cd6"
  },
  "kernelspec": {
   "display_name": "Python 3.8.2 64-bit",
   "name": "python3"
  },
  "language_info": {
   "codemirror_mode": {
    "name": "ipython",
    "version": 3
   },
   "file_extension": ".py",
   "mimetype": "text/x-python",
   "name": "python",
   "nbconvert_exporter": "python",
   "pygments_lexer": "ipython3",
   "version": "3.8.9"
  },
  "orig_nbformat": 4
 },
 "nbformat": 4,
 "nbformat_minor": 2
}
